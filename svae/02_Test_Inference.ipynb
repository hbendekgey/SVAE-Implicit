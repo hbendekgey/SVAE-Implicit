{
 "cells": [
  {
   "cell_type": "code",
   "execution_count": 1,
   "id": "59c53a00",
   "metadata": {},
   "outputs": [],
   "source": [
    "import os\n",
    "os.environ['XLA_PYTHON_CLIENT_PREALLOCATE'] = 'false'\n",
    "os.environ['TF_CPP_MIN_LOG_LEVEL'] = '3'\n",
    "\n",
    "import jax\n",
    "jax.config.update(\"jax_enable_x64\", True)\n",
    "\n",
    "from jax import vmap, grad, random, jit, tree_map\n",
    "import jax.numpy as jnp\n",
    "from inference.MP_Inference import lds_inference, lds_inference_sequential, lds_inference_homog, hmm_inference, lds_to_hmm_mf, hmm_to_lds_mf\n",
    "\n",
    "import pickle\n",
    "import time"
   ]
  },
  {
   "cell_type": "markdown",
   "id": "a139f7c9",
   "metadata": {},
   "source": [
    "# Generate synethic parameters"
   ]
  },
  {
   "cell_type": "code",
   "execution_count": 2,
   "id": "2d32570b",
   "metadata": {},
   "outputs": [],
   "source": [
    "os.makedirs(\"saved_models\", exist_ok=True)"
   ]
  },
  {
   "cell_type": "markdown",
   "id": "7a5f5138",
   "metadata": {},
   "source": [
    "#### Create recognition potentials to parameterize Gaussian $\\hat{\\ell}_\\phi(z|x)$"
   ]
  },
  {
   "cell_type": "code",
   "execution_count": 3,
   "id": "cc96de1d",
   "metadata": {},
   "outputs": [],
   "source": [
    "from models.VAE import Encoder\n",
    "N = 100\n",
    "D = 5"
   ]
  },
  {
   "cell_type": "code",
   "execution_count": 4,
   "id": "cdd91b1c",
   "metadata": {},
   "outputs": [],
   "source": [
    "rng = random.PRNGKey(47)\n",
    "init, inp = random.split(rng, 2)\n",
    "model = Encoder(D)\n",
    "params = model.init({'params': init}, jnp.ones((N,20)))\n",
    "recog_potentials = model.apply(params, random.normal(inp, (N,20)), mutable=['batch_stats'])[0]"
   ]
  },
  {
   "cell_type": "markdown",
   "id": "916d8bf5",
   "metadata": {},
   "source": [
    "#### Create graphical model parameters for an LDS"
   ]
  },
  {
   "cell_type": "code",
   "execution_count": 5,
   "id": "1c275a54",
   "metadata": {},
   "outputs": [],
   "source": [
    "from models.SVAE_LDS import PGM_LDS\n",
    "rng = random.PRNGKey(4747)\n",
    "model = PGM_LDS(D, inf32=False)\n",
    "params = model.init({'params': init}, recog_potentials, rng)\n",
    "pgm_potentials = model.apply(params, recog_potentials, method=PGM_LDS.expected_params)[0]"
   ]
  },
  {
   "cell_type": "code",
   "execution_count": 6,
   "id": "30db0887",
   "metadata": {},
   "outputs": [],
   "source": [
    "with open(\"saved_models/lds.pkl\", 'wb') as f:\n",
    "    pickle.dump((recog_potentials, pgm_potentials), f)"
   ]
  },
  {
   "cell_type": "markdown",
   "id": "054c05d7",
   "metadata": {},
   "source": [
    "#### Create graphical model parameters for an SLDS"
   ]
  },
  {
   "cell_type": "code",
   "execution_count": 7,
   "id": "cfd4d135",
   "metadata": {},
   "outputs": [],
   "source": [
    "from models.SVAE_SLDS import PGM_SLDS\n",
    "from inference.SLDS_Inference import slds_inference_itersolve\n",
    "K = 4"
   ]
  },
  {
   "cell_type": "code",
   "execution_count": 8,
   "id": "df6cd29a",
   "metadata": {},
   "outputs": [],
   "source": [
    "rng = random.PRNGKey(4747)\n",
    "model = PGM_SLDS(D, K, slds_inference_itersolve, inf32=False)\n",
    "params = model.init({'params': init}, recog_potentials, rng, rng)\n",
    "pgm_potentials = model.apply(params, method=PGM_SLDS.expected_params)[0]"
   ]
  },
  {
   "cell_type": "markdown",
   "id": "75028980",
   "metadata": {},
   "source": [
    "Compute the endpoints of inner optimization"
   ]
  },
  {
   "cell_type": "code",
   "execution_count": 9,
   "id": "eff7d416",
   "metadata": {},
   "outputs": [],
   "source": [
    "gaus_expected_stats, cat_expected_stats = slds_inference_itersolve(recog_potentials, *pgm_potentials, rng)\n",
    "gaus_natparam = hmm_to_lds_mf(cat_expected_stats, pgm_potentials[0], 0.)[0]\n",
    "cat_natparam = lds_to_hmm_mf(gaus_expected_stats, pgm_potentials[0])"
   ]
  },
  {
   "cell_type": "code",
   "execution_count": 10,
   "id": "35fc0562",
   "metadata": {},
   "outputs": [],
   "source": [
    "with open(\"saved_models/slds.pkl\", 'wb') as f:\n",
    "    pickle.dump((recog_potentials, pgm_potentials, gaus_natparam, cat_natparam), f)"
   ]
  },
  {
   "cell_type": "markdown",
   "id": "d1669ecc",
   "metadata": {},
   "source": [
    "# Test Inference"
   ]
  },
  {
   "cell_type": "markdown",
   "id": "35ec99c3",
   "metadata": {},
   "source": [
    "### LDS inference"
   ]
  },
  {
   "cell_type": "code",
   "execution_count": 11,
   "id": "866e22f4",
   "metadata": {},
   "outputs": [],
   "source": [
    "with open(\"saved_models/slds.pkl\", 'rb') as f:\n",
    "    recog_potentials, pgm_potentials, gaus_natparam, cat_natparam = pickle.load(f)\n",
    "    \n",
    "lds_params = (pgm_potentials[1], gaus_natparam)"
   ]
  },
  {
   "cell_type": "markdown",
   "id": "9d0e1d80",
   "metadata": {},
   "source": [
    "jit-ed functions are compiled when they are run for the first time, making them take much longer"
   ]
  },
  {
   "cell_type": "code",
   "execution_count": 12,
   "id": "b105c071",
   "metadata": {},
   "outputs": [
    {
     "name": "stdout",
     "output_type": "stream",
     "text": [
      "2.3031821250915527\n"
     ]
    }
   ],
   "source": [
    "func = jit(lds_inference)\n",
    "start = time.time()\n",
    "_ = func(recog_potentials, *lds_params)\n",
    "end = time.time()\n",
    "print(end-start)"
   ]
  },
  {
   "cell_type": "code",
   "execution_count": 13,
   "id": "9a409fbd",
   "metadata": {},
   "outputs": [
    {
     "name": "stdout",
     "output_type": "stream",
     "text": [
      "2.47 ms ± 9.33 µs per loop (mean ± std. dev. of 7 runs, 100 loops each)\n"
     ]
    }
   ],
   "source": [
    "%timeit func(recog_potentials, *lds_params)"
   ]
  },
  {
   "cell_type": "markdown",
   "id": "4600b4a8",
   "metadata": {},
   "source": [
    "Now let's look at batched speed"
   ]
  },
  {
   "cell_type": "code",
   "execution_count": 14,
   "id": "26bfc99c",
   "metadata": {},
   "outputs": [],
   "source": [
    "tile_R = jnp.tile(jnp.expand_dims(recog_potentials[0],0), (10,1,1,1))\n",
    "tile_r = jnp.tile(jnp.expand_dims(recog_potentials[1],0), (10,1,1,1))\n",
    "tile_rp = (tile_R, tile_r)"
   ]
  },
  {
   "cell_type": "code",
   "execution_count": 15,
   "id": "a387776e",
   "metadata": {},
   "outputs": [
    {
     "name": "stdout",
     "output_type": "stream",
     "text": [
      "2.781658411026001\n"
     ]
    }
   ],
   "source": [
    "mapped_func = jit(vmap(func, in_axes=[0, None, None]))\n",
    "start = time.time()\n",
    "_ = mapped_func(tile_rp, *lds_params)\n",
    "end = time.time()\n",
    "print(end-start)\n"
   ]
  },
  {
   "cell_type": "code",
   "execution_count": 16,
   "id": "4264b696",
   "metadata": {},
   "outputs": [
    {
     "name": "stdout",
     "output_type": "stream",
     "text": [
      "2.54 ms ± 36.9 µs per loop (mean ± std. dev. of 7 runs, 100 loops each)\n"
     ]
    }
   ],
   "source": [
    "%timeit mapped_func(tile_rp, *lds_params)"
   ]
  },
  {
   "cell_type": "markdown",
   "id": "83036c75",
   "metadata": {},
   "source": [
    "Confirm $\\nabla_\\eta \\log Z(\\eta) = E[t(\\eta)]$ (remember, the LDS is one big Gaussian distribution)"
   ]
  },
  {
   "cell_type": "code",
   "execution_count": 17,
   "id": "0508bcb4",
   "metadata": {},
   "outputs": [],
   "source": [
    "from inference.MP_Inference import lds_transition_params_to_nat\n",
    "\n",
    "# factors of -1 and -2 are removed from parameters for LDS inference; here we add them back in\n",
    "def lds_transition_params_from_nat(init_nat, trans_nat):\n",
    "    init = -2 * init_nat[0], init_nat[1]\n",
    "    trans = trans_nat[0] * -1, trans_nat[1] * -2, trans_nat[2], trans_nat[3] * -2, trans_nat[4]\n",
    "    return init, trans\n",
    "\n",
    "\n",
    "def logZ(natparams):\n",
    "    params = lds_transition_params_from_nat(*natparams)\n",
    "    _, logZ, _ = lds_inference(recog_potentials, *params)\n",
    "    return logZ\n",
    "\n",
    "natparams = lds_transition_params_to_nat(*lds_params)"
   ]
  },
  {
   "cell_type": "markdown",
   "id": "55b239f3",
   "metadata": {},
   "source": [
    "compute $\\nabla_\\eta \\log Z (\\eta)$"
   ]
  },
  {
   "cell_type": "code",
   "execution_count": 18,
   "id": "abaa017b",
   "metadata": {},
   "outputs": [],
   "source": [
    "grad_func = jit(grad(logZ))\n",
    "(i1, i2), (a,b,c,d,e) = grad_func(natparams)"
   ]
  },
  {
   "cell_type": "markdown",
   "id": "2f34ebab",
   "metadata": {},
   "source": [
    "compute $E[t(\\eta)]$"
   ]
  },
  {
   "cell_type": "code",
   "execution_count": 19,
   "id": "0ae2b53b",
   "metadata": {},
   "outputs": [],
   "source": [
    "(EXXT, EX, EXXNT), logZ, _ = lds_inference(recog_potentials, *lds_params)"
   ]
  },
  {
   "cell_type": "code",
   "execution_count": 20,
   "id": "70932d2d",
   "metadata": {},
   "outputs": [],
   "source": [
    "assert jnp.isclose(i1,  EXXT[0]).all()\n",
    "assert jnp.isclose(i2,  EX[0]).all()\n",
    "assert jnp.isclose(a,  EX[:-1]).all()\n",
    "assert jnp.isclose(b,  EXXT[:-1]).all()\n",
    "assert jnp.isclose(c,  EXXNT).all()\n",
    "assert jnp.isclose(d,  EXXT[1:]).all()\n",
    "assert jnp.isclose(e,  EX[1:]).all()"
   ]
  },
  {
   "cell_type": "code",
   "execution_count": 21,
   "id": "b9507cfd",
   "metadata": {
    "scrolled": true
   },
   "outputs": [
    {
     "name": "stdout",
     "output_type": "stream",
     "text": [
      "2.36 ms ± 7.04 µs per loop (mean ± std. dev. of 7 runs, 100 loops each)\n"
     ]
    }
   ],
   "source": [
    "%timeit grad_func(natparams)"
   ]
  },
  {
   "cell_type": "markdown",
   "id": "e7ac2162",
   "metadata": {},
   "source": [
    "### HMM Inference"
   ]
  },
  {
   "cell_type": "code",
   "execution_count": 22,
   "id": "b0cfeb85",
   "metadata": {},
   "outputs": [],
   "source": [
    "with open(\"saved_models/slds.pkl\", 'rb') as f:\n",
    "    recog_potentials, pgm_potentials, gaus_natparam, cat_natparam = pickle.load(f)\n",
    "    \n",
    "hmm_params = (pgm_potentials[-2], pgm_potentials[-1])"
   ]
  },
  {
   "cell_type": "code",
   "execution_count": 23,
   "id": "8ae1418b",
   "metadata": {},
   "outputs": [
    {
     "name": "stdout",
     "output_type": "stream",
     "text": [
      "0.3106875419616699\n"
     ]
    }
   ],
   "source": [
    "func = jit(hmm_inference)\n",
    "\n",
    "start = time.time()\n",
    "func(*hmm_params, cat_natparam)\n",
    "end = time.time()\n",
    "print(end-start)"
   ]
  },
  {
   "cell_type": "code",
   "execution_count": 24,
   "id": "ba17af75",
   "metadata": {
    "scrolled": true
   },
   "outputs": [
    {
     "name": "stdout",
     "output_type": "stream",
     "text": [
      "1.57 ms ± 6.26 µs per loop (mean ± std. dev. of 7 runs, 1,000 loops each)\n"
     ]
    }
   ],
   "source": [
    "%timeit func(*hmm_params, cat_natparam)"
   ]
  },
  {
   "cell_type": "markdown",
   "id": "e857db72",
   "metadata": {},
   "source": [
    "Confirm $\\nabla_\\eta \\log Z(\\eta) = E[t(\\eta)]$ (the HMM is one big discrete distribution)"
   ]
  },
  {
   "cell_type": "code",
   "execution_count": 25,
   "id": "0c2a8bb0",
   "metadata": {},
   "outputs": [],
   "source": [
    "cat_expected_stats = func(*hmm_params, cat_natparam)[0]"
   ]
  },
  {
   "cell_type": "code",
   "execution_count": 26,
   "id": "6f6700b2",
   "metadata": {},
   "outputs": [],
   "source": [
    "def hmm(cat_natparam):\n",
    "    return func(*hmm_params, cat_natparam)[1] # take in natural parameters and return logZ\n",
    "\n",
    "grad_func = jit(grad(hmm))\n",
    "grads = grad_func(cat_natparam)"
   ]
  },
  {
   "cell_type": "code",
   "execution_count": 27,
   "id": "7474229f",
   "metadata": {},
   "outputs": [],
   "source": [
    "assert jnp.isclose(grads,  cat_expected_stats).all()"
   ]
  },
  {
   "cell_type": "markdown",
   "id": "fdb22515",
   "metadata": {},
   "source": [
    "### Mean field updates"
   ]
  },
  {
   "cell_type": "markdown",
   "id": "a3fde355",
   "metadata": {},
   "source": [
    "If the iterative inference we ran at the beginning of this notebook converged, then we should be able to\n",
    "- Do inference in the LDS and HMM\n",
    "- then message pass back\n",
    "\n",
    "and recover the same parameters we started with. Let's see:"
   ]
  },
  {
   "cell_type": "code",
   "execution_count": 28,
   "id": "00f1a771",
   "metadata": {},
   "outputs": [],
   "source": [
    "cat_expected_stats = hmm_inference(*hmm_params, cat_natparam)[0]\n",
    "gaus_expected_stats = lds_inference(recog_potentials, *lds_params)[0]"
   ]
  },
  {
   "cell_type": "code",
   "execution_count": 29,
   "id": "9b77ba56",
   "metadata": {},
   "outputs": [
    {
     "data": {
      "text/plain": [
       "Array(0.00101798, dtype=float64)"
      ]
     },
     "execution_count": 29,
     "metadata": {},
     "output_type": "execute_result"
    }
   ],
   "source": [
    "def mae(a,b):\n",
    "    return jnp.mean(jnp.abs((a-b)/b))\n",
    "mae(lds_to_hmm_mf(gaus_expected_stats, pgm_potentials[0]), cat_natparam)"
   ]
  },
  {
   "cell_type": "code",
   "execution_count": 30,
   "id": "2420e9f7",
   "metadata": {},
   "outputs": [
    {
     "data": {
      "text/plain": [
       "(Array(0., dtype=float64),\n",
       " Array(0., dtype=float64),\n",
       " Array(0., dtype=float64),\n",
       " Array(0., dtype=float64),\n",
       " Array(0., dtype=float64))"
      ]
     },
     "execution_count": 30,
     "metadata": {},
     "output_type": "execute_result"
    }
   ],
   "source": [
    "gaus_natparam_reconstructed = hmm_to_lds_mf(cat_expected_stats, pgm_potentials[0], 0.)[0]\n",
    "\n",
    "tree_map(lambda x,y: mae(x,y),gaus_natparam_reconstructed, gaus_natparam)"
   ]
  },
  {
   "cell_type": "markdown",
   "id": "d4d36640",
   "metadata": {},
   "source": [
    "### Bonus: Hidden Semi-Markov Model"
   ]
  },
  {
   "cell_type": "markdown",
   "id": "9a7c7432",
   "metadata": {},
   "source": [
    "Here, I show evaluation of the Hidden Semi-Markov Model. This model allows for a negative binomial duration distribution for each state; we recover the HMM model when we set the duration distribution to be exponential, as demonstrated below"
   ]
  },
  {
   "cell_type": "code",
   "execution_count": 31,
   "id": "f7e8bca1",
   "metadata": {},
   "outputs": [],
   "source": [
    "from inference.MP_Inference import hsmm_inference\n",
    "\n",
    "# The HSMM is parameterized by a transition matrix with no diagonal, \n",
    "# because self-transition is governed by the duration distribution\n",
    "trans_mask = (1-jnp.identity(4)).astype(bool)\n",
    "trans = jnp.reshape(hmm_params[1][trans_mask], (4,3)) # K x K - 1\n",
    "init = hmm_params[0] # K x 1\n",
    "\n",
    "# the duration distribution is an exponential distribution\n",
    "self_trans = jnp.cumsum(jnp.tile(jnp.diag(hmm_params[1]), (101,1)).at[0].set(0), 0)\n",
    "\n",
    "hsmm_params = init, trans, self_trans"
   ]
  },
  {
   "cell_type": "code",
   "execution_count": 32,
   "id": "82fa01fb",
   "metadata": {},
   "outputs": [],
   "source": [
    "cat_es, logZ, _ = hmm_inference(*hmm_params, cat_natparam)\n",
    "cat_es2, logZ2, _ = hsmm_inference(*hsmm_params, cat_natparam)"
   ]
  },
  {
   "cell_type": "code",
   "execution_count": 33,
   "id": "a1955446",
   "metadata": {},
   "outputs": [
    {
     "data": {
      "text/plain": [
       "(Array(-465.52896303, dtype=float64), Array(-465.3360378, dtype=float64))"
      ]
     },
     "execution_count": 33,
     "metadata": {},
     "output_type": "execute_result"
    }
   ],
   "source": [
    "logZ, logZ2 "
   ]
  },
  {
   "cell_type": "markdown",
   "id": "23452979",
   "metadata": {},
   "source": [
    "We see slight warping in the log partition function, which comes from imprecision in the log_cumsum_exp used at the end of inference."
   ]
  },
  {
   "cell_type": "code",
   "execution_count": 34,
   "id": "d48ef912",
   "metadata": {},
   "outputs": [],
   "source": [
    "assert jnp.isclose(cat_es, cat_es2).all()"
   ]
  },
  {
   "cell_type": "markdown",
   "id": "38c63152",
   "metadata": {},
   "source": [
    "But the statistics are entirely correct!"
   ]
  },
  {
   "cell_type": "code",
   "execution_count": 35,
   "id": "5620f149",
   "metadata": {},
   "outputs": [],
   "source": [
    "def grad_fn(p):\n",
    "    return hsmm_inference(init, trans, self_trans, p)[1]\n",
    "\n",
    "assert jnp.isclose(grad(grad_fn)(cat_natparam), cat_es2).all()"
   ]
  },
  {
   "cell_type": "markdown",
   "id": "2885bde8",
   "metadata": {},
   "source": [
    "Finally, some visualizations of the `get_duration_lps` function, which evaluates the duration distribution over the fixed range given marginal probabilities over $n$ and $p$"
   ]
  },
  {
   "cell_type": "code",
   "execution_count": 36,
   "id": "55c4cabb",
   "metadata": {},
   "outputs": [
    {
     "data": {
      "text/plain": [
       "[<matplotlib.lines.Line2D at 0x7f3020d94730>]"
      ]
     },
     "execution_count": 36,
     "metadata": {},
     "output_type": "execute_result"
    },
    {
     "data": {
      "image/png": "[encoded data removed]",
      "text/plain": [
       "<Figure size 640x480 with 1 Axes>"
      ]
     },
     "metadata": {},
     "output_type": "display_data"
    }
   ],
   "source": [
    "from distributions import dirichlet\n",
    "from inference.MP_Inference import get_duration_lps\n",
    "import matplotlib.pyplot as plt\n",
    "\n",
    "E_dur_n = jnp.zeros(10).at[2].set(1)\n",
    "prior_p = jnp.ones(2).at[0].set(2) * 1000000 \n",
    "lps = get_duration_lps(dirichlet.expected_stats(prior_p), E_dur_n, 100)\n",
    "plt.plot(jnp.exp(lps))"
   ]
  },
  {
   "cell_type": "code",
   "execution_count": null,
   "id": "dff5a92b",
   "metadata": {},
   "outputs": [],
   "source": []
  }
 ],
 "metadata": {
  "kernelspec": {
   "display_name": "Python 3 (ipykernel)",
   "language": "python",
   "name": "python3"
  },
  "language_info": {
   "codemirror_mode": {
    "name": "ipython",
    "version": 3
   },
   "file_extension": ".py",
   "mimetype": "text/x-python",
   "name": "python",
   "nbconvert_exporter": "python",
   "pygments_lexer": "ipython3",
   "version": "3.10.9"
  }
 },
 "nbformat": 4,
 "nbformat_minor": 5
}
