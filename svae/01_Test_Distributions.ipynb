{
 "cells": [
  {
   "cell_type": "markdown",
   "id": "4507758d",
   "metadata": {},
   "source": [
    "This notebook provides some simple tests for the distributions in this repo, and is mean to help users understand their functionality"
   ]
  },
  {
   "cell_type": "code",
   "execution_count": 1,
   "id": "4ae17f93",
   "metadata": {},
   "outputs": [],
   "source": [
    "import os\n",
    "os.environ['XLA_PYTHON_CLIENT_PREALLOCATE'] = 'false'\n",
    "os.environ['TF_CPP_MIN_LOG_LEVEL'] = '3'\n",
    "\n",
    "import jax\n",
    "jax.config.update(\"jax_enable_x64\", True)\n",
    "\n",
    "from jax import vmap, grad, random, jit\n",
    "import jax.numpy as jnp\n",
    "from distributions import categorical, dirichlet, normal, niw, mniw"
   ]
  },
  {
   "cell_type": "code",
   "execution_count": 2,
   "id": "218c8afe",
   "metadata": {},
   "outputs": [
    {
     "data": {
      "text/plain": [
       "Array([ 0, 47], dtype=uint32)"
      ]
     },
     "execution_count": 2,
     "metadata": {},
     "output_type": "execute_result"
    }
   ],
   "source": [
    "key = random.PRNGKey(47)\n",
    "key"
   ]
  },
  {
   "cell_type": "code",
   "execution_count": 3,
   "id": "ce69d4b2",
   "metadata": {},
   "outputs": [],
   "source": [
    "key, subkey = random.split(key)\n",
    "batched_params = random.uniform(subkey, (3, 3))"
   ]
  },
  {
   "cell_type": "markdown",
   "id": "dda5fdd7",
   "metadata": {},
   "source": [
    "# Test distributions via exponential family properties\n",
    "One key property of exponential families is that the gradient of the log partition function is the expected statistics of the distribution. We can test this for each distribution below"
   ]
  },
  {
   "cell_type": "markdown",
   "id": "3848f1ba",
   "metadata": {},
   "source": [
    "### Categorical"
   ]
  },
  {
   "cell_type": "code",
   "execution_count": 4,
   "id": "3f6497ac",
   "metadata": {},
   "outputs": [],
   "source": [
    "logZgrad = vmap(grad(categorical.logZ))(batched_params)\n",
    "es = categorical.expected_stats(batched_params)\n",
    "assert jnp.isclose(logZgrad, es).all()"
   ]
  },
  {
   "cell_type": "markdown",
   "id": "5be77835",
   "metadata": {},
   "source": [
    "### Dirichlet"
   ]
  },
  {
   "cell_type": "code",
   "execution_count": 5,
   "id": "69c3551a",
   "metadata": {},
   "outputs": [],
   "source": [
    "logZgrad = vmap(grad(dirichlet.logZ))(batched_params)\n",
    "es = dirichlet.expected_stats(batched_params)\n",
    "assert jnp.isclose(logZgrad, es).all()"
   ]
  },
  {
   "cell_type": "markdown",
   "id": "ac384d48",
   "metadata": {},
   "source": [
    "### Normal"
   ]
  },
  {
   "cell_type": "code",
   "execution_count": 6,
   "id": "1d8d6dea",
   "metadata": {},
   "outputs": [],
   "source": [
    "key, subkey = random.split(key)\n",
    "A = random.normal(subkey, (4,4))\n",
    "pd = A.dot(A.T) + jnp.identity(4) * 1e-5\n",
    "key, subkey = random.split(key)\n",
    "mu = random.normal(subkey, (4,1))\n",
    "params = (mu, pd)\n",
    "natparam = normal.moment_to_nat(params)"
   ]
  },
  {
   "cell_type": "markdown",
   "id": "1e80034b",
   "metadata": {},
   "source": [
    "Check `moment_to_nat` and `nat_to_moment` agree"
   ]
  },
  {
   "cell_type": "code",
   "execution_count": 7,
   "id": "f102488d",
   "metadata": {},
   "outputs": [],
   "source": [
    "recon = normal.nat_to_moment(natparam)\n",
    "assert jnp.isclose(recon[0], params[0]).all()\n",
    "assert jnp.isclose(recon[1], params[1]).all()"
   ]
  },
  {
   "cell_type": "markdown",
   "id": "e15feaf6",
   "metadata": {},
   "source": [
    "confirm $\\nabla_\\eta \\log Z(\\eta) = E[t(\\eta)]$"
   ]
  },
  {
   "cell_type": "code",
   "execution_count": 8,
   "id": "e3d0fc8f",
   "metadata": {},
   "outputs": [],
   "source": [
    "logZgrad = grad(normal.logZ)(natparam)\n",
    "es = normal.expected_stats(natparam)\n",
    "for i in range(2):\n",
    "    assert jnp.isclose(logZgrad[i], es[i]).all()"
   ]
  },
  {
   "cell_type": "markdown",
   "id": "d0cefcee",
   "metadata": {},
   "source": [
    "how much faster is the hard-coded version compared to the jax gradient version?"
   ]
  },
  {
   "cell_type": "code",
   "execution_count": 9,
   "id": "3fedb4fa",
   "metadata": {},
   "outputs": [
    {
     "name": "stdout",
     "output_type": "stream",
     "text": [
      "189 µs ± 3.05 µs per loop (mean ± std. dev. of 7 runs, 10,000 loops each)\n"
     ]
    }
   ],
   "source": [
    "f = jit(grad(normal.logZ))\n",
    "f(natparam) # run once for just-in-time compilation before testing the speed\n",
    "%timeit f(natparam)"
   ]
  },
  {
   "cell_type": "code",
   "execution_count": 10,
   "id": "fa929b5b",
   "metadata": {},
   "outputs": [
    {
     "name": "stdout",
     "output_type": "stream",
     "text": [
      "113 µs ± 1.97 µs per loop (mean ± std. dev. of 7 runs, 10,000 loops each)\n"
     ]
    }
   ],
   "source": [
    "f = jit(normal.expected_stats)\n",
    "f(natparam)\n",
    "%timeit f(natparam)"
   ]
  },
  {
   "cell_type": "markdown",
   "id": "55e701bd",
   "metadata": {},
   "source": [
    "Let's confirm that batching this works properly"
   ]
  },
  {
   "cell_type": "code",
   "execution_count": 11,
   "id": "cfa1cea1",
   "metadata": {},
   "outputs": [],
   "source": [
    "batched_pd = jnp.tile(jnp.expand_dims(pd,0),(3,1,1))\n",
    "batched_pd = batched_pd.at[0].set(batched_pd[0] + jnp.identity(4) * 0.7)\n",
    "batched_mu = jnp.tile(jnp.expand_dims(mu,0),(3,1,1))\n",
    "batched_mu = batched_mu.at[1].set(batched_mu[1] + 0.7)\n",
    "batch_natparam = vmap(normal.moment_to_nat)((batched_mu, batched_pd))"
   ]
  },
  {
   "cell_type": "code",
   "execution_count": 12,
   "id": "fdb23ddc",
   "metadata": {},
   "outputs": [],
   "source": [
    "logZgrad = vmap(grad(normal.logZ))(batch_natparam)\n",
    "es = vmap(normal.expected_stats)(batch_natparam)\n",
    "for i in range(2):\n",
    "    assert jnp.isclose(logZgrad[i], es[i]).all()"
   ]
  },
  {
   "cell_type": "markdown",
   "id": "cb4c8364",
   "metadata": {},
   "source": [
    "### NIW"
   ]
  },
  {
   "cell_type": "code",
   "execution_count": 13,
   "id": "cfbb010b",
   "metadata": {},
   "outputs": [],
   "source": [
    "key, subkey = random.split(key)\n",
    "A = random.normal(subkey, (4,4))\n",
    "pd = A.dot(A.T) + jnp.identity(4) * 1e-5\n",
    "key, subkey = random.split(key)\n",
    "mu = random.normal(subkey, (4,1))\n",
    "params = (pd, mu, 7., 15.)\n",
    "natparam = niw.moment_to_nat(params)"
   ]
  },
  {
   "cell_type": "markdown",
   "id": "720f17e1",
   "metadata": {},
   "source": [
    "check `moment_to_nat` and `nat_to_moment` agree\n"
   ]
  },
  {
   "cell_type": "code",
   "execution_count": 14,
   "id": "0e4661d9",
   "metadata": {},
   "outputs": [],
   "source": [
    "recon = niw.nat_to_moment(natparam)\n",
    "for i in range(4):\n",
    "    assert jnp.isclose(recon[i], params[i]).all()"
   ]
  },
  {
   "cell_type": "markdown",
   "id": "eeab7e1d",
   "metadata": {},
   "source": [
    "confirm $\\nabla_\\eta \\log Z(\\eta) = E[t(\\eta)]$"
   ]
  },
  {
   "cell_type": "code",
   "execution_count": 15,
   "id": "0eea5b4c",
   "metadata": {},
   "outputs": [],
   "source": [
    "logZgrad = grad(niw.logZ)(natparam)\n",
    "es = niw.expected_stats(natparam)\n",
    "for i in range(4):\n",
    "    assert jnp.isclose(logZgrad[i], es[i]).all()"
   ]
  },
  {
   "cell_type": "markdown",
   "id": "1e946262",
   "metadata": {},
   "source": [
    "confirm batching works properly"
   ]
  },
  {
   "cell_type": "code",
   "execution_count": 16,
   "id": "d1ac7c77",
   "metadata": {},
   "outputs": [],
   "source": [
    "batched_pd = jnp.tile(jnp.expand_dims(pd,0),(3,1,1))\n",
    "batched_pd = batched_pd.at[0].set(batched_pd[0] + jnp.identity(4) * 0.7)\n",
    "batched_mu = jnp.tile(jnp.expand_dims(mu,0),(3,1,1))\n",
    "batched_mu = batched_mu.at[1].set(batched_mu[1] + 0.7)\n",
    "batch_natparam = vmap(niw.moment_to_nat)((batched_pd, batched_mu, jnp.array([7.,7.,7.]), jnp.array([15.,15.,15.])))"
   ]
  },
  {
   "cell_type": "code",
   "execution_count": 17,
   "id": "6b7af4f7",
   "metadata": {},
   "outputs": [],
   "source": [
    "logZgrad = vmap(grad(niw.logZ))(batch_natparam)\n",
    "es = vmap(niw.expected_stats)(batch_natparam)\n",
    "for i in range(4):\n",
    "    assert jnp.isclose(logZgrad[i], es[i]).all()"
   ]
  },
  {
   "cell_type": "markdown",
   "id": "888e6fb1",
   "metadata": {},
   "source": [
    "### MNIW"
   ]
  },
  {
   "cell_type": "code",
   "execution_count": 18,
   "id": "32502a1c",
   "metadata": {},
   "outputs": [],
   "source": [
    "key, subkey = random.split(key)\n",
    "A = random.normal(subkey, (4,4))\n",
    "pd = A.dot(A.T) + jnp.identity(4) * 1e-5\n",
    "key, subkey = random.split(key)\n",
    "M = random.normal(subkey, (4,5))\n",
    "key, subkey = random.split(key)\n",
    "B = random.normal(subkey, (5,5))\n",
    "V = B.dot(B.T) + jnp.identity(5) * 1e-5\n",
    "params = (pd, M, V, 15.)\n",
    "natparam = mniw.moment_to_nat(params)"
   ]
  },
  {
   "cell_type": "markdown",
   "id": "f3ccaf97",
   "metadata": {},
   "source": [
    "check `moment_to_nat` and `nat_to_moment` agree"
   ]
  },
  {
   "cell_type": "code",
   "execution_count": 19,
   "id": "8610106b",
   "metadata": {},
   "outputs": [],
   "source": [
    "recon = mniw.nat_to_moment(natparam)\n",
    "for i in range(4):\n",
    "    assert jnp.isclose(recon[i], params[i]).all()"
   ]
  },
  {
   "cell_type": "markdown",
   "id": "5ff38a14",
   "metadata": {},
   "source": [
    "confirm $\\nabla_\\eta \\log Z(\\eta) = E[t(\\eta)]$"
   ]
  },
  {
   "cell_type": "code",
   "execution_count": 20,
   "id": "7573824f",
   "metadata": {},
   "outputs": [],
   "source": [
    "logZgrad = grad(mniw.logZ)(natparam)\n",
    "es = mniw.expected_stats(natparam)\n",
    "for i in range(4):\n",
    "    assert jnp.isclose(logZgrad[i], es[i]).all()"
   ]
  },
  {
   "cell_type": "markdown",
   "id": "673eda0d",
   "metadata": {},
   "source": [
    "confirm batching works properly"
   ]
  },
  {
   "cell_type": "code",
   "execution_count": 21,
   "id": "ff95723e",
   "metadata": {},
   "outputs": [],
   "source": [
    "batched_pd = jnp.tile(jnp.expand_dims(pd,0),(3,1,1))\n",
    "batched_pd = batched_pd.at[0].set(batched_pd[0] + jnp.identity(4) * 0.7)\n",
    "batched_M = jnp.tile(jnp.expand_dims(M,0),(3,1,1))\n",
    "batched_M = batched_M.at[1].set(batched_M[1] + 0.7)\n",
    "batched_V = jnp.tile(jnp.expand_dims(V,0),(3,1,1))\n",
    "batched_V = batched_V.at[2].set(batched_V[2] + jnp.identity(5) * 0.7)\n",
    "batch_natparam = vmap(mniw.moment_to_nat)((batched_pd, batched_M, batched_V, jnp.array([15.,15.,15.])))"
   ]
  },
  {
   "cell_type": "code",
   "execution_count": 22,
   "id": "8af302cd",
   "metadata": {},
   "outputs": [],
   "source": [
    "logZgrad = vmap(grad(mniw.logZ))(batch_natparam)\n",
    "es = vmap(mniw.expected_stats)(batch_natparam)\n",
    "for i in range(4):\n",
    "    assert jnp.isclose(logZgrad[i], es[i]).all()"
   ]
  },
  {
   "cell_type": "code",
   "execution_count": null,
   "id": "d3637788",
   "metadata": {},
   "outputs": [],
   "source": []
  }
 ],
 "metadata": {
  "kernelspec": {
   "display_name": "Python 3 (ipykernel)",
   "language": "python",
   "name": "python3"
  },
  "language_info": {
   "codemirror_mode": {
    "name": "ipython",
    "version": 3
   },
   "file_extension": ".py",
   "mimetype": "text/x-python",
   "name": "python",
   "nbconvert_exporter": "python",
   "pygments_lexer": "ipython3",
   "version": "3.10.9"
  }
 },
 "nbformat": 4,
 "nbformat_minor": 5
}
